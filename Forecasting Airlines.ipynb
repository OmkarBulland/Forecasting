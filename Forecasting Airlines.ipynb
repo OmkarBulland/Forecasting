{
 "cells": [
  {
   "cell_type": "code",
   "execution_count": 21,
   "id": "f0741731",
   "metadata": {
    "ExecuteTime": {
     "end_time": "2023-02-05T14:55:49.904953Z",
     "start_time": "2023-02-05T14:55:49.891971Z"
    }
   },
   "outputs": [],
   "source": [
    "# Import necessary libraries\n",
    "import pandas as pd\n",
    "import numpy as np\n",
    "from statsmodels.tsa.arima.model import ARIMA\n",
    "from statsmodels.tsa.holtwinters import ExponentialSmoothing\n",
    "from statsmodels.tsa.statespace.sarimax import SARIMAX\n",
    "from sklearn.metrics import mean_squared_error\n",
    "import warnings\n",
    "warnings.filterwarnings('ignore')"
   ]
  },
  {
   "cell_type": "code",
   "execution_count": 8,
   "id": "7b391e64",
   "metadata": {
    "ExecuteTime": {
     "end_time": "2023-02-05T14:49:25.958442Z",
     "start_time": "2023-02-05T14:49:25.939496Z"
    }
   },
   "outputs": [
    {
     "data": {
      "text/html": [
       "<div>\n",
       "<style scoped>\n",
       "    .dataframe tbody tr th:only-of-type {\n",
       "        vertical-align: middle;\n",
       "    }\n",
       "\n",
       "    .dataframe tbody tr th {\n",
       "        vertical-align: top;\n",
       "    }\n",
       "\n",
       "    .dataframe thead th {\n",
       "        text-align: right;\n",
       "    }\n",
       "</style>\n",
       "<table border=\"1\" class=\"dataframe\">\n",
       "  <thead>\n",
       "    <tr style=\"text-align: right;\">\n",
       "      <th></th>\n",
       "      <th>Month</th>\n",
       "      <th>Passengers</th>\n",
       "    </tr>\n",
       "  </thead>\n",
       "  <tbody>\n",
       "    <tr>\n",
       "      <th>0</th>\n",
       "      <td>Jan-95</td>\n",
       "      <td>112</td>\n",
       "    </tr>\n",
       "    <tr>\n",
       "      <th>1</th>\n",
       "      <td>Feb-95</td>\n",
       "      <td>118</td>\n",
       "    </tr>\n",
       "    <tr>\n",
       "      <th>2</th>\n",
       "      <td>Mar-95</td>\n",
       "      <td>132</td>\n",
       "    </tr>\n",
       "    <tr>\n",
       "      <th>3</th>\n",
       "      <td>Apr-95</td>\n",
       "      <td>129</td>\n",
       "    </tr>\n",
       "    <tr>\n",
       "      <th>4</th>\n",
       "      <td>May-95</td>\n",
       "      <td>121</td>\n",
       "    </tr>\n",
       "    <tr>\n",
       "      <th>...</th>\n",
       "      <td>...</td>\n",
       "      <td>...</td>\n",
       "    </tr>\n",
       "    <tr>\n",
       "      <th>91</th>\n",
       "      <td>Aug-02</td>\n",
       "      <td>405</td>\n",
       "    </tr>\n",
       "    <tr>\n",
       "      <th>92</th>\n",
       "      <td>Sep-02</td>\n",
       "      <td>355</td>\n",
       "    </tr>\n",
       "    <tr>\n",
       "      <th>93</th>\n",
       "      <td>Oct-02</td>\n",
       "      <td>306</td>\n",
       "    </tr>\n",
       "    <tr>\n",
       "      <th>94</th>\n",
       "      <td>Nov-02</td>\n",
       "      <td>271</td>\n",
       "    </tr>\n",
       "    <tr>\n",
       "      <th>95</th>\n",
       "      <td>Dec-02</td>\n",
       "      <td>306</td>\n",
       "    </tr>\n",
       "  </tbody>\n",
       "</table>\n",
       "<p>96 rows × 2 columns</p>\n",
       "</div>"
      ],
      "text/plain": [
       "     Month  Passengers\n",
       "0   Jan-95         112\n",
       "1   Feb-95         118\n",
       "2   Mar-95         132\n",
       "3   Apr-95         129\n",
       "4   May-95         121\n",
       "..     ...         ...\n",
       "91  Aug-02         405\n",
       "92  Sep-02         355\n",
       "93  Oct-02         306\n",
       "94  Nov-02         271\n",
       "95  Dec-02         306\n",
       "\n",
       "[96 rows x 2 columns]"
      ]
     },
     "execution_count": 8,
     "metadata": {},
     "output_type": "execute_result"
    }
   ],
   "source": [
    "# Load the data set into a Pandas DataFrame\n",
    "data = pd.read_csv(\"Airlines+Data.csv\")\n",
    "data"
   ]
  },
  {
   "cell_type": "code",
   "execution_count": 14,
   "id": "6ca9f260",
   "metadata": {
    "ExecuteTime": {
     "end_time": "2023-02-05T14:52:57.651513Z",
     "start_time": "2023-02-05T14:52:57.643510Z"
    }
   },
   "outputs": [],
   "source": [
    "# Split the data into training and test sets\n",
    "train = data[:-12]\n",
    "test = data[-12:]"
   ]
  },
  {
   "cell_type": "code",
   "execution_count": 15,
   "id": "ffd6c9e7",
   "metadata": {
    "ExecuteTime": {
     "end_time": "2023-02-05T14:53:13.376200Z",
     "start_time": "2023-02-05T14:53:13.348186Z"
    }
   },
   "outputs": [],
   "source": [
    "\n",
    "# Define the RMSE calculation function\n",
    "def calculate_rmse(predictions, actual):\n",
    "    mse = mean_squared_error(actual, predictions)\n",
    "    rmse = np.sqrt(mse)\n",
    "    return rmse"
   ]
  },
  {
   "cell_type": "code",
   "execution_count": 22,
   "id": "c673e4a5",
   "metadata": {
    "ExecuteTime": {
     "end_time": "2023-02-05T14:55:52.805889Z",
     "start_time": "2023-02-05T14:55:52.611034Z"
    }
   },
   "outputs": [
    {
     "name": "stdout",
     "output_type": "stream",
     "text": [
      "ARIMA RMSE: 38.40269029276655\n"
     ]
    }
   ],
   "source": [
    "# ARIMA Model\n",
    "arima_model = ARIMA(train[\"Passengers\"], order=(2,1,2))\n",
    "arima_fit = arima_model.fit()\n",
    "arima_predictions = arima_fit.forecast(steps=12)\n",
    "arima_rmse = calculate_rmse(arima_predictions, test[\"Passengers\"])\n",
    "print(\"ARIMA RMSE:\", arima_rmse)"
   ]
  },
  {
   "cell_type": "code",
   "execution_count": 20,
   "id": "a3083fef",
   "metadata": {
    "ExecuteTime": {
     "end_time": "2023-02-05T14:55:27.014392Z",
     "start_time": "2023-02-05T14:55:26.998873Z"
    }
   },
   "outputs": [
    {
     "name": "stdout",
     "output_type": "stream",
     "text": [
      "Exponential Smoothing RMSE: 68.01702900353945\n"
     ]
    }
   ],
   "source": [
    "\n",
    "# Exponential Smoothing Model\n",
    "holt_model = ExponentialSmoothing(train[\"Passengers\"])\n",
    "holt_fit = holt_model.fit()\n",
    "holt_predictions = holt_fit.forecast(steps=12)\n",
    "holt_rmse = calculate_rmse(holt_predictions, test[\"Passengers\"])\n",
    "print(\"Exponential Smoothing RMSE:\", holt_rmse)\n"
   ]
  },
  {
   "cell_type": "code",
   "execution_count": 24,
   "id": "ee1596b5",
   "metadata": {
    "ExecuteTime": {
     "end_time": "2023-02-05T14:56:21.565440Z",
     "start_time": "2023-02-05T14:56:21.391555Z"
    }
   },
   "outputs": [
    {
     "name": "stdout",
     "output_type": "stream",
     "text": [
      "SARIMA RMSE: 10.063541994945984\n"
     ]
    }
   ],
   "source": [
    "# SARIMA Model\n",
    "sarima_model = SARIMAX(train[\"Passengers\"], order=(1,1,1), seasonal_order=(0,1,1,12))\n",
    "sarima_fit = sarima_model.fit()\n",
    "sarima_predictions = sarima_fit.forecast(steps=12)\n",
    "sarima_rmse = calculate_rmse(sarima_predictions, test[\"Passengers\"])\n",
    "print(\"SARIMA RMSE:\", sarima_rmse)\n"
   ]
  },
  {
   "cell_type": "code",
   "execution_count": 25,
   "id": "0f131f38",
   "metadata": {
    "ExecuteTime": {
     "end_time": "2023-02-05T14:56:34.428016Z",
     "start_time": "2023-02-05T14:56:34.413261Z"
    }
   },
   "outputs": [
    {
     "name": "stdout",
     "output_type": "stream",
     "text": [
      "Best Model: SARIMA\n"
     ]
    }
   ],
   "source": [
    "# Select the best model based on RMSE\n",
    "best_model = min(arima_rmse, holt_rmse, sarima_rmse)\n",
    "if best_model == arima_rmse:\n",
    "    print(\"Best Model: ARIMA\")\n",
    "elif best_model == holt_rmse:\n",
    "    print(\"Best Model: Exponential Smoothing\")\n",
    "else:\n",
    "    print(\"Best Model: SARIMA\")"
   ]
  },
  {
   "cell_type": "code",
   "execution_count": null,
   "id": "51b9bcf6",
   "metadata": {},
   "outputs": [],
   "source": []
  }
 ],
 "metadata": {
  "kernelspec": {
   "display_name": "Python 3 (ipykernel)",
   "language": "python",
   "name": "python3"
  },
  "language_info": {
   "codemirror_mode": {
    "name": "ipython",
    "version": 3
   },
   "file_extension": ".py",
   "mimetype": "text/x-python",
   "name": "python",
   "nbconvert_exporter": "python",
   "pygments_lexer": "ipython3",
   "version": "3.9.13"
  }
 },
 "nbformat": 4,
 "nbformat_minor": 5
}
